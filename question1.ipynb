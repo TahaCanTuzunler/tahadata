{
 "cells": [
  {
   "cell_type": "code",
   "execution_count": 1,
   "id": "bcdff37b-7211-4191-b6fd-c6838c77d906",
   "metadata": {
    "tags": []
   },
   "outputs": [
    {
     "name": "stdout",
     "output_type": "stream",
     "text": [
      "\n",
      "=== Main Menu ===\n",
      "1) Food\n",
      "2) Cleaning\n",
      "3) Fruit/Vegetable\n",
      "4) Payment\n",
      "5) Exit\n"
     ]
    },
    {
     "name": "stdin",
     "output_type": "stream",
     "text": [
      "Choice:  3\n"
     ]
    },
    {
     "name": "stdout",
     "output_type": "stream",
     "text": [
      "\n",
      "-- Fruit/Vegetable --\n",
      "1. Apple | Stock: 10 | Price: $0.4\n",
      "2. Banana | Stock: 8 | Price: $0.3\n",
      "3. Tomato | Stock: 5 | Price: $0.8\n",
      "4. Onion | Stock: 7 | Price: $0.6\n",
      "5. Potato | Stock: 10 | Price: $0.5\n"
     ]
    },
    {
     "name": "stdin",
     "output_type": "stream",
     "text": [
      "Select a product number (or 0 to go back):  3\n",
      "Enter quantity for 'Tomato':  4\n"
     ]
    },
    {
     "name": "stdout",
     "output_type": "stream",
     "text": [
      "Added 4 x 'Tomato' to cart.\n",
      "\n",
      "=== Main Menu ===\n",
      "1) Food\n",
      "2) Cleaning\n",
      "3) Fruit/Vegetable\n",
      "4) Payment\n",
      "5) Exit\n"
     ]
    },
    {
     "name": "stdin",
     "output_type": "stream",
     "text": [
      "Choice:  4\n"
     ]
    },
    {
     "name": "stdout",
     "output_type": "stream",
     "text": [
      "\n",
      "Total amount: $3.2\n"
     ]
    },
    {
     "name": "stdin",
     "output_type": "stream",
     "text": [
      "Proceed to payment? (y/n):  y\n"
     ]
    },
    {
     "name": "stdout",
     "output_type": "stream",
     "text": [
      "Payment successful! Cart is now empty.\n",
      "\n",
      "=== Main Menu ===\n",
      "1) Food\n",
      "2) Cleaning\n",
      "3) Fruit/Vegetable\n",
      "4) Payment\n",
      "5) Exit\n"
     ]
    },
    {
     "name": "stdin",
     "output_type": "stream",
     "text": [
      "Choice:  5\n"
     ]
    },
    {
     "name": "stdout",
     "output_type": "stream",
     "text": [
      "Goodbye!\n"
     ]
    }
   ],
   "source": [
    "food = {\n",
    "    \"Bread\": [10, 2.0],\n",
    "    \"Milk\": [20, 1.5],\n",
    "    \"Eggs\": [15, 0.5],\n",
    "    \"Pasta\": [10, 2.5],\n",
    "    \"Cheese\": [8, 4.0]\n",
    "}\n",
    "\n",
    "cleaning = {\n",
    "    \"Detergent\": [5, 5.5],\n",
    "    \"Soap\": [10, 2.0],\n",
    "    \"Bleach\": [8, 3.5],\n",
    "    \"Glass\": [4, 4.5],\n",
    "    \"Towel\": [8, 1.2]\n",
    "}\n",
    "\n",
    "fruits_veg = {\n",
    "    \"Apple\": [10, 0.4],\n",
    "    \"Banana\": [8, 0.3],\n",
    "    \"Tomato\": [5, 0.8],\n",
    "    \"Onion\": [7, 0.6],\n",
    "    \"Potato\": [10, 0.5]\n",
    "}\n",
    "\n",
    "cart = {}\n",
    "\n",
    "\n",
    "def display_menu():\n",
    "    print(\"\\n=== Main Menu ===\")\n",
    "    print(\"1) Food\")\n",
    "    print(\"2) Cleaning\")\n",
    "    print(\"3) Fruit/Vegetable\")\n",
    "    print(\"4) Payment\")\n",
    "    print(\"5) Exit\")\n",
    "\n",
    "\n",
    "def show_products(category_name, products_dict):\n",
    "    print(f\"\\n-- {category_name} --\")\n",
    "    for i, (name, info) in enumerate(products_dict.items(), start=1):\n",
    "        print(f\"{i}. {name} | Stock: {info[0]} | Price: ${info[1]}\")\n",
    "\n",
    "def add_to_cart(products_dict):\n",
    "    choice = input(\"Select a product number (or 0 to go back): \")\n",
    "    if not choice.isdigit() or choice == \"0\":\n",
    "        return  # go back if invalid or 0\n",
    "    choice = int(choice)\n",
    "    \n",
    "\n",
    "    product_names = list(products_dict.keys())\n",
    "    if 1 <= choice <= len(product_names):\n",
    "        product_name = product_names[choice - 1]\n",
    "        try:\n",
    "            quantity = int(input(f\"Enter quantity for '{product_name}': \"))\n",
    "        except ValueError:\n",
    "            print(\"Invalid quantity.\")\n",
    "            return\n",
    "        \n",
    "        # Check stock\n",
    "        if quantity > products_dict[product_name][0]:\n",
    "            print(\"Not enough stock!\")\n",
    "        else:\n",
    "            # If product is already in cart, just add quantity\n",
    "            if product_name in cart:\n",
    "                cart[product_name][0] += quantity\n",
    "            else:\n",
    "                cart[product_name] = [quantity, products_dict[product_name][1]]\n",
    "            print(f\"Added {quantity} x '{product_name}' to cart.\")\n",
    "    else:\n",
    "        print(\"Invalid choice.\")\n",
    "\n",
    "\n",
    "def calculate_total():\n",
    "    total = 0.0\n",
    "    for quantity, price in cart.values():\n",
    "        total += quantity * price\n",
    "    return total\n",
    "\n",
    "\n",
    "def payment():\n",
    "    if not cart:\n",
    "        print(\"Cart is empty.\")\n",
    "        return\n",
    "    total = calculate_total()\n",
    "    print(f\"\\nTotal amount: ${total}\")\n",
    "    confirm = input(\"Proceed to payment? (y/n): \").lower()\n",
    "    if confirm == 'y':\n",
    "        # Update stock\n",
    "        for item, (qty, price) in cart.items():\n",
    "            if item in food:\n",
    "                food[item][0] -= qty\n",
    "            elif item in cleaning:\n",
    "                cleaning[item][0] -= qty\n",
    "            elif item in fruits_veg:\n",
    "                fruits_veg[item][0] -= qty\n",
    "        cart.clear()\n",
    "        print(\"Payment successful! Cart is now empty.\")\n",
    "    else:\n",
    "        print(\"Payment canceled.\")\n",
    "\n",
    "\n",
    "def main():\n",
    "    while True:\n",
    "        display_menu()\n",
    "        choice = input(\"Choice: \")\n",
    "        \n",
    "        if choice == '1':\n",
    "            show_products(\"Food\", food)\n",
    "            add_to_cart(food)\n",
    "        elif choice == '2':\n",
    "            show_products(\"Cleaning\", cleaning)\n",
    "            add_to_cart(cleaning)\n",
    "        elif choice == '3':\n",
    "            show_products(\"Fruit/Vegetable\", fruits_veg)\n",
    "            add_to_cart(fruits_veg)\n",
    "        elif choice == '4':\n",
    "            payment()\n",
    "        elif choice == '5':\n",
    "            print(\"Goodbye!\")\n",
    "            break\n",
    "        else:\n",
    "            print(\"Invalid option.\")\n",
    "\n",
    "if __name__ == \"__main__\":\n",
    "    main()\n"
   ]
  },
  {
   "cell_type": "code",
   "execution_count": null,
   "id": "b5beecb5-48d7-4a55-bae7-41ab97f924f9",
   "metadata": {},
   "outputs": [],
   "source": []
  }
 ],
 "metadata": {
  "kernelspec": {
   "display_name": "Python 3 (ipykernel)",
   "language": "python",
   "name": "python3"
  },
  "language_info": {
   "codemirror_mode": {
    "name": "ipython",
    "version": 3
   },
   "file_extension": ".py",
   "mimetype": "text/x-python",
   "name": "python",
   "nbconvert_exporter": "python",
   "pygments_lexer": "ipython3",
   "version": "3.11.2"
  }
 },
 "nbformat": 4,
 "nbformat_minor": 5
}
